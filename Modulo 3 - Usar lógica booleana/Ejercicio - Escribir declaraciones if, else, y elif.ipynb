{
 "cells": [
  {
   "cell_type": "markdown",
   "metadata": {},
   "source": [
    "Problema #1 Asteroide:\n",
    "# Añadir el código necesario para crear una variable que guarde la velocidad del asteroide.\n",
    "# Escribe una expresión de prueba para calcular si necesita una advertencia.\n",
    "# Agregue las instrucciones que se ejecutarán si la expresión de prueba es true o false."
   ]
  },
  {
   "cell_type": "code",
   "execution_count": 6,
   "metadata": {},
   "outputs": [
    {
     "name": "stdout",
     "output_type": "stream",
     "text": [
      "¡Sigue con lo que estabas haciendo!\n"
     ]
    }
   ],
   "source": [
    "asteroide = 20\n",
    "if asteroide > 25:\n",
    "    print('¡Cuidado! ¡Hay un asteroide peligroso acercandose!')\n",
    "else:\n",
    "    print('¡Sigue con lo que estabas haciendo!')"
   ]
  },
  {
   "cell_type": "markdown",
   "metadata": {},
   "source": [
    "#Problema 2: Uso de operadores and y or"
   ]
  },
  {
   "cell_type": "code",
   "execution_count": 8,
   "metadata": {},
   "outputs": [
    {
     "name": "stdout",
     "output_type": "stream",
     "text": [
      "Mira hacia arrba!, Hay un asteroide pasando sobre ti!\n"
     ]
    }
   ],
   "source": [
    "asteroide = 26\n",
    "if asteroide > 20:\n",
    "    print('Mira hacia arrba!, Hay un asteroide pasando sobre ti!')\n",
    "elif asteroide == 20:\n",
    "    print('Mira hacia arrba!, Hay un asteroide pasando sobre ti!')\n",
    "else:\n",
    "    print('No hay nada importante que ver aqui')"
   ]
  },
  {
   "cell_type": "markdown",
   "metadata": {},
   "source": [
    "Problema 3 mas complejo: Agregar nuevos mensajes en caso de que el tamaño sea diferente"
   ]
  },
  {
   "cell_type": "code",
   "execution_count": 4,
   "metadata": {},
   "outputs": [
    {
     "name": "stdout",
     "output_type": "stream",
     "text": [
      "No hay nada importante que ver aqui\n"
     ]
    }
   ],
   "source": [
    "velocidad_asteroide = 15\n",
    "tamano_asteroide = 40\n",
    "if velocidad_asteroide > 25 and tamano_asteroide > 25:\n",
    "    print('¡Cuidado, hay un asteroide muy peligroso viniendo hacia la tierra!')\n",
    "elif velocidad_asteroide >= 20:\n",
    "    print('Mira hacia arrba!, Hay un asteroide pasando sobre ti!')\n",
    "elif tamano_asteroide < 25:\n",
    "    print('No hay nada importante que ver aqui')\n",
    "else:\n",
    "    print('No hay nada importante que ver aqui')"
   ]
  }
 ],
 "metadata": {
  "interpreter": {
   "hash": "32c10601aeb2b5ccf250b55ab04b705574b5f62b74ec7162aafc33f345eb249f"
  },
  "kernelspec": {
   "display_name": "Python 3.10.2 64-bit",
   "language": "python",
   "name": "python3"
  },
  "language_info": {
   "codemirror_mode": {
    "name": "ipython",
    "version": 3
   },
   "file_extension": ".py",
   "mimetype": "text/x-python",
   "name": "python",
   "nbconvert_exporter": "python",
   "pygments_lexer": "ipython3",
   "version": "3.10.2"
  },
  "orig_nbformat": 4
 },
 "nbformat": 4,
 "nbformat_minor": 2
}
